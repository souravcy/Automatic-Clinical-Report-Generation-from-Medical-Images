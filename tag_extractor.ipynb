{
 "cells": [
  {
   "cell_type": "code",
   "execution_count": 1,
   "id": "8eb3e062",
   "metadata": {},
   "outputs": [
    {
     "name": "stdout",
     "output_type": "stream",
     "text": [
      "<Element 'eCitation' at 0x00000224481C0B80>\n"
     ]
    }
   ],
   "source": [
    "import xml.etree.ElementTree as et\n",
    "mytree=et.parse('1.xml')\n",
    "myroot=mytree.getroot()\n",
    "print(myroot)\n"
   ]
  },
  {
   "cell_type": "code",
   "execution_count": null,
   "id": "03b5c613",
   "metadata": {},
   "outputs": [],
   "source": []
  },
  {
   "cell_type": "code",
   "execution_count": 2,
   "id": "3eb60e8e",
   "metadata": {},
   "outputs": [
    {
     "name": "stdout",
     "output_type": "stream",
     "text": [
      "meta\n"
     ]
    }
   ],
   "source": [
    "print(myroot[0].tag)"
   ]
  },
  {
   "cell_type": "code",
   "execution_count": 3,
   "id": "eb45cf28",
   "metadata": {},
   "outputs": [],
   "source": [
    "for x in myroot.findall('Abstract'):\n",
    "    item=x.find('AbstractText').text\n",
    "    print(item)   #not working"
   ]
  },
  {
   "cell_type": "code",
   "execution_count": 4,
   "id": "61a6b16a",
   "metadata": {},
   "outputs": [],
   "source": [
    "for x in myroot.findall('MedlineCitation'):\n",
    "    for data in myroot.findall('Abstract'):\n",
    "        info=data.find('AbstractText').text\n",
    "        print(info)\n",
    "#not working"
   ]
  },
  {
   "cell_type": "code",
   "execution_count": 5,
   "id": "dfec6a19",
   "metadata": {},
   "outputs": [
    {
     "name": "stdout",
     "output_type": "stream",
     "text": [
      "None.\n",
      "Positive TB test\n",
      "The cardiac silhouette and mediastinum size are within normal limits. There is no pulmonary edema. There is no focal consolidation. There are no XXXX of a pleural effusion. There is no evidence of pneumothorax.\n",
      "Normal chest x-XXXX.\n"
     ]
    }
   ],
   "source": [
    "\n",
    "sections = myroot.find(\"MedlineCitation\").find(\"Article\").find(\"Abstract\").findall(\"AbstractText\")\n",
    "for section in sections:\n",
    "    if section.get(\"Label\") == \"COMPARISON\":\n",
    "                findings= section.text\n",
    "                print(findings)\n",
    "    if section.get(\"Label\") == \"INDICATION\":\n",
    "                findings = section.text\n",
    "                print(findings)\n",
    "    if section.get(\"Label\") == \"FINDINGS\":\n",
    "                findings = section.text\n",
    "                print(findings)\n",
    "    if section.get(\"Label\") == \"IMPRESSION\":\n",
    "                findings = section.text\n",
    "                print(findings)\n",
    "    "
   ]
  },
  {
   "cell_type": "code",
   "execution_count": 6,
   "id": "6b455130",
   "metadata": {},
   "outputs": [],
   "source": [
    "import pandas as pd\n",
    "cols = [\"COMPARISON\", \"INDICATION\", \"FINDINGS\",\"IMPRESSION\"]\n",
    "rows = []\n",
    "sections = myroot.find(\"MedlineCitation\").find(\"Article\").find(\"Abstract\").findall(\"AbstractText\")\n",
    "for section in sections:\n",
    "    if section.get(\"Label\") == \"COMPARISON\":\n",
    "                comp= section.text\n",
    "                \n",
    "    if section.get(\"Label\") == \"INDICATION\":\n",
    "                indi= section.text\n",
    "                \n",
    "    if section.get(\"Label\") == \"FINDINGS\":\n",
    "                findings= section.text\n",
    "    if section.get(\"Label\") == \"IMPRESSION\":\n",
    "                imps = section.text\n",
    "                \n",
    "    \n",
    "                \n",
    "rows.append({\"COMPARISON\": comp,\n",
    "                 \"INDICATION\": indi,\n",
    "                 \"FINDINGS\": findings,\n",
    "                 \"IMPRESSION\": imps})\n",
    "df = pd.DataFrame(rows, columns=cols)\n",
    "df.to_csv('output.csv')"
   ]
  },
  {
   "cell_type": "code",
   "execution_count": 7,
   "id": "10695a73",
   "metadata": {},
   "outputs": [
    {
     "name": "stdout",
     "output_type": "stream",
     "text": [
      "CXR1_1_IM-0001-3001\n"
     ]
    }
   ],
   "source": [
    "images = myroot.find(\"parentImage\")\n",
    "im=images.get(\"id\")\n",
    "print(im)"
   ]
  },
  {
   "cell_type": "code",
   "execution_count": 8,
   "id": "26ffb1a7",
   "metadata": {},
   "outputs": [],
   "source": [
    "import pandas as pd\n",
    "cols = [\"ParentImage\",\"COMPARISON\", \"INDICATION\", \"FINDINGS\",\"IMPRESSION\",\"Manual_Tag\"]\n",
    "rows = []\n",
    "images = myroot.find(\"parentImage\")\n",
    "imid=images.get(\"id\")\n",
    "sections = myroot.find(\"MedlineCitation\").find(\"Article\").find(\"Abstract\").findall(\"AbstractText\")\n",
    "for section in sections:\n",
    "    if section.get(\"Label\") == \"COMPARISON\":\n",
    "                comp= section.text\n",
    "                \n",
    "    if section.get(\"Label\") == \"INDICATION\":\n",
    "                indi= section.text\n",
    "                \n",
    "    if section.get(\"Label\") == \"FINDINGS\":\n",
    "                findings= section.text\n",
    "    if section.get(\"Label\") == \"IMPRESSION\":\n",
    "                imps = section.text\n",
    "manual_tags = myroot.find(\"MeSH\").find(\"major\")\n",
    "mt=manual_tags.text            \n",
    "    \n",
    "                \n",
    "rows.append({\"COMPARISON\": comp,\n",
    "                 \"INDICATION\": indi,\n",
    "                 \"FINDINGS\": findings,\n",
    "                 \"IMPRESSION\": imps,\n",
    "                 \"ParentImage\":imid,\n",
    "                 \"Manual_Tag\":mt})\n",
    "df = pd.DataFrame(rows, columns=cols)\n",
    "df.to_csv('output.csv')"
   ]
  },
  {
   "cell_type": "code",
   "execution_count": 9,
   "id": "70b53f50",
   "metadata": {},
   "outputs": [
    {
     "name": "stdout",
     "output_type": "stream",
     "text": [
      "normal\n"
     ]
    }
   ],
   "source": [
    "manual_tags = myroot.find(\"MeSH\").find(\"major\")\n",
    "print(manual_tags.text)"
   ]
  },
  {
   "cell_type": "code",
   "execution_count": null,
   "id": "5a603190",
   "metadata": {},
   "outputs": [],
   "source": []
  }
 ],
 "metadata": {
  "kernelspec": {
   "display_name": "Python 3 (ipykernel)",
   "language": "python",
   "name": "python3"
  },
  "language_info": {
   "codemirror_mode": {
    "name": "ipython",
    "version": 3
   },
   "file_extension": ".py",
   "mimetype": "text/x-python",
   "name": "python",
   "nbconvert_exporter": "python",
   "pygments_lexer": "ipython3",
   "version": "3.10.9"
  }
 },
 "nbformat": 4,
 "nbformat_minor": 5
}
