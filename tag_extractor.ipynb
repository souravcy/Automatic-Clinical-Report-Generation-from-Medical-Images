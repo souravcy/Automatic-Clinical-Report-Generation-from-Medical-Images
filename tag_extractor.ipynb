{
 "cells": [
  {
   "cell_type": "code",
   "execution_count": 1,
   "id": "4c5ea57c",
   "metadata": {},
   "outputs": [],
   "source": [
    "import pandas as pd\n",
    "import os\n",
    "import xml.etree.ElementTree as et\n",
    "cols = [\"ParentImage\",\"COMPARISON\", \"INDICATION\", \"FINDINGS\",\"IMPRESSION\",\"Manual_Tag\"]\n",
    "rows = []\n",
    "reports_path = \"C:/Users/KALYAN KUMAR GUHA/Desktop/4th  yr project tmsl/trial-reports\"\n",
    "reports = os.listdir(reports_path)\n",
    "for report in reports:\n",
    "    tree = et.parse(os.path.join(reports_path, report))\n",
    "    myroot = tree.getroot()\n",
    "    images = myroot.find(\"parentImage\")\n",
    "    imid=images.get(\"id\")\n",
    "    sections = myroot.find(\"MedlineCitation\").find(\"Article\").find(\"Abstract\").findall(\"AbstractText\")\n",
    "    for section in sections:\n",
    "        \n",
    "        if section.get(\"Label\") == \"COMPARISON\":\n",
    "            comp= section.text\n",
    "                \n",
    "        if section.get(\"Label\") == \"INDICATION\":\n",
    "            indi= section.text\n",
    "                \n",
    "        if section.get(\"Label\") == \"FINDINGS\":\n",
    "            findings= section.text\n",
    "        if section.get(\"Label\") == \"IMPRESSION\":\n",
    "            imps = section.text\n",
    "    manual_tags = myroot.find(\"MeSH\").find(\"major\")\n",
    "    mt=manual_tags.text\n",
    "    rows.append({\"COMPARISON\": comp,\n",
    "                 \"INDICATION\": indi,\n",
    "                 \"FINDINGS\": findings,\n",
    "                 \"IMPRESSION\": imps,\n",
    "                 \"ParentImage\":imid,\n",
    "                 \"Manual_Tag\":mt})\n",
    "    df = pd.DataFrame(rows, columns=cols)\n",
    "    df.to_csv('output1.csv')"
   ]
  },
  {
   "cell_type": "code",
   "execution_count": null,
   "id": "eb91aa04",
   "metadata": {},
   "outputs": [],
   "source": [
    "\n"
   ]
  },
  {
   "cell_type": "code",
   "execution_count": 3,
   "id": "f6adc15b",
   "metadata": {},
   "outputs": [],
   "source": [
    "import pandas as pd\n",
    "import os\n",
    "import xml.etree.ElementTree as et\n",
    "cols = [\"ParentImage\",\"COMPARISON\", \"INDICATION\", \"FINDINGS\",\"IMPRESSION\",\"Manual_Tag\"]\n",
    "rows = []\n",
    "reports_path = \"C:/Users/KALYAN KUMAR GUHA/Desktop/4th  yr project tmsl/trial-reports3\"\n",
    "reports = os.listdir(reports_path)\n",
    "for report in reports:\n",
    "    tree = et.parse(os.path.join(reports_path, report))\n",
    "    myroot = tree.getroot()\n",
    "    images = myroot.find(\"parentImage\")\n",
    "    ##imid=images.get(\"id\")\n",
    "    ##print(imid)\n",
    "    sections = myroot.find(\"MedlineCitation\").find(\"Article\").find(\"Abstract\").findall(\"AbstractText\")\n",
    "    for section in sections:\n",
    "        \n",
    "        if section.get(\"Label\") == \"COMPARISON\":\n",
    "            comp= section.text\n",
    "                \n",
    "        if section.get(\"Label\") == \"INDICATION\":\n",
    "            indi= section.text\n",
    "                \n",
    "        if section.get(\"Label\") == \"FINDINGS\":\n",
    "            findings= section.text\n",
    "        if section.get(\"Label\") == \"IMPRESSION\":\n",
    "            imps = section.text\n",
    "    manual_tags = myroot.find(\"MeSH\").find(\"major\")\n",
    "    mt=manual_tags.text\n",
    "    rows.append({\"COMPARISON\": comp,\n",
    "                 \"INDICATION\": indi,\n",
    "                 \"FINDINGS\": findings,\n",
    "                 \"IMPRESSION\": imps,\n",
    "                 \"ParentImage\":imid,\n",
    "                 \"Manual_Tag\":mt})\n",
    "    df = pd.DataFrame(rows, columns=cols)\n",
    "    df.to_csv('output3.csv')"
   ]
  },
  {
   "cell_type": "code",
   "execution_count": null,
   "id": "fdfe358b",
   "metadata": {},
   "outputs": [],
   "source": []
  }
 ],
 "metadata": {
  "kernelspec": {
   "display_name": "Python 3 (ipykernel)",
   "language": "python",
   "name": "python3"
  },
  "language_info": {
   "codemirror_mode": {
    "name": "ipython",
    "version": 3
   },
   "file_extension": ".py",
   "mimetype": "text/x-python",
   "name": "python",
   "nbconvert_exporter": "python",
   "pygments_lexer": "ipython3",
   "version": "3.10.9"
  }
 },
 "nbformat": 4,
 "nbformat_minor": 5
}
